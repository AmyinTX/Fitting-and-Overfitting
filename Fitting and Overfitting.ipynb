{
 "cells": [
  {
   "cell_type": "markdown",
   "metadata": {},
   "source": [
    "# Fitting and Overfitting "
   ]
  },
  {
   "cell_type": "markdown",
   "metadata": {},
   "source": [
    "### The purpose of this exercise is to examine how improvements to training model can lead to overfitting, a situation that occurs when the model performs poorly once new, unseen data is introduced. "
   ]
  },
  {
   "cell_type": "markdown",
   "metadata": {},
   "source": [
    "## Data Acquisition and Processing"
   ]
  },
  {
   "cell_type": "code",
   "execution_count": 1,
   "metadata": {
    "collapsed": true
   },
   "outputs": [],
   "source": [
    "#%% import packages\n",
    "import numpy as np\n",
    "import pandas as pd\n",
    "from sklearn.metrics import mean_squared_error\n",
    "from sklearn import linear_model\n",
    "import matplotlib.pyplot as plt\n",
    "%matplotlib inline"
   ]
  },
  {
   "cell_type": "code",
   "execution_count": 2,
   "metadata": {
    "collapsed": true
   },
   "outputs": [],
   "source": [
    "#%% Set seed for reproducible results\n",
    "np.random.seed(414)"
   ]
  },
  {
   "cell_type": "code",
   "execution_count": 3,
   "metadata": {
    "collapsed": true
   },
   "outputs": [],
   "source": [
    "#%% Gen toy data\n",
    "X = np.linspace(0, 15, 1000)\n",
    "y = 3 * np.sin(X) + np.random.normal(1 + X, .2, 1000)"
   ]
  },
  {
   "cell_type": "code",
   "execution_count": 4,
   "metadata": {
    "collapsed": true
   },
   "outputs": [],
   "source": [
    "#%% split into training and testing datasets\n",
    "train_X, train_y = X[:700], y[:700]\n",
    "test_X, test_y = X[700:], y[700:]\n",
    "\n",
    "train_df = pd.DataFrame({'X': train_X, 'y': train_y})\n",
    "test_df = pd.DataFrame({'X': test_X, 'y': test_y})"
   ]
  },
  {
   "cell_type": "code",
   "execution_count": 5,
   "metadata": {
    "collapsed": true
   },
   "outputs": [],
   "source": [
    "#%% create quadratic and cubic terms\n",
    "train_df['X-squared'] = (train_df['X'])**2\n",
    "train_df['X-cubed'] = (train_df['X'])**3\n",
    "\n",
    "test_df['X-squared'] = (test_df['X'])**2\n",
    "test_df['X-cubed'] = (test_df['X'])**3"
   ]
  },
  {
   "cell_type": "code",
   "execution_count": 6,
   "metadata": {
    "collapsed": true
   },
   "outputs": [],
   "source": [
    "#%% reshape data\n",
    "testX = test_df['X'].reshape((300,1))\n",
    "testy = test_df['y'].reshape((300,1))\n",
    "\n",
    "X = train_df['X'].reshape((700,1))\n",
    "y = train_df['y'].reshape((700,1))"
   ]
  },
  {
   "cell_type": "code",
   "execution_count": 7,
   "metadata": {
    "collapsed": false
   },
   "outputs": [
    {
     "name": "stdout",
     "output_type": "stream",
     "text": [
      "[ 1.99591641] [[ 0.88959869]]\n",
      "4.06\n",
      "6.55\n"
     ]
    }
   ],
   "source": [
    "#%% model1\n",
    "m1_train_X = train_df['X'].reshape((700,1))\n",
    "m1_test_X = test_df['X'].reshape((300,1))\n",
    "\n",
    "m1 = linear_model.LinearRegression()\n",
    "r1 = m1.fit(m1_train_X, y)\n",
    "print(r1.intercept_, r1.coef_)\n",
    "\n",
    "m1_pred_train = m1.predict(m1_train_X)\n",
    "m1_pred_test = m1.predict(m1_test_X)\n",
    "\n",
    "train_m1_mse = print(round(float(mean_squared_error(y, m1_pred_train)), 2))\n",
    "test_m1_mse = print(round(float(mean_squared_error(testy, m1_pred_test)), 2))"
   ]
  },
  {
   "cell_type": "code",
   "execution_count": 8,
   "metadata": {
    "collapsed": false
   },
   "outputs": [
    {
     "name": "stdout",
     "output_type": "stream",
     "text": [
      "[ 3.14580289] [[ 0.23129691  0.06272232]]\n",
      "3.79\n",
      "7.99\n"
     ]
    }
   ],
   "source": [
    "#%% model2\n",
    "m2_train_X = train_df[['X', 'X-squared']]\n",
    "m2_test_X = test_df[['X', 'X-squared']]\n",
    "\n",
    "m2 = linear_model.LinearRegression()\n",
    "r2 = m2.fit(m2_train_X, y)\n",
    "print(r2.intercept_, r2.coef_)\n",
    "\n",
    "m2_pred_train = m2.predict(m2_train_X)\n",
    "m2_pred_test = m2.predict(m2_test_X)\n",
    "\n",
    "train_m2_mse = print(round(float(mean_squared_error(y, m2_pred_train)), 2))\n",
    "test_m2_mse = print(round(float(mean_squared_error(testy, m2_pred_test)), 2))"
   ]
  },
  {
   "cell_type": "code",
   "execution_count": 9,
   "metadata": {
    "collapsed": false
   },
   "outputs": [
    {
     "name": "stdout",
     "output_type": "stream",
     "text": [
      "[ 5.40493337] [[-2.36094361  0.6806289  -0.039249  ]]\n",
      "3.05\n",
      "199.65\n"
     ]
    }
   ],
   "source": [
    "#%% model 3\n",
    "m3_train_X = train_df[['X', 'X-squared', 'X-cubed']]\n",
    "m3_test_X = test_df[['X', 'X-squared', 'X-cubed']]\n",
    "\n",
    "m3 = linear_model.LinearRegression()\n",
    "r3 = m3.fit(m3_train_X, y)\n",
    "print(r3.intercept_, r3.coef_)\n",
    "\n",
    "m3_pred_train = m3.predict(m3_train_X)\n",
    "m3_pred_test = m3.predict(m3_test_X)\n",
    "\n",
    "train_m3_mse = print(round(float(mean_squared_error(y, m3_pred_train)), 2))\n",
    "test_m3_mse = print(round(float(mean_squared_error(testy, m3_pred_test)), 2))"
   ]
  },
  {
   "cell_type": "code",
   "execution_count": 10,
   "metadata": {
    "collapsed": false
   },
   "outputs": [
    {
     "data": {
      "image/png": "[encoded data removed]",
      "text/plain": [
       "<matplotlib.figure.Figure at 0x114983ac8>"
      ]
     },
     "metadata": {},
     "output_type": "display_data"
    }
   ],
   "source": [
    "n_groups = 3\n",
    "mse_train = (4.06, 3.79, 3.05)\n",
    "mse_test = (6.55, 7.99, 199.65)\n",
    "bar_width = 0.35\n",
    "opacity = 0.8\n",
    "\n",
    "fig, ax = plt.subplots()\n",
    "index = np.arange(n_groups)\n",
    "\n",
    "rects1 = plt.bar(index, mse_train, bar_width, alpha=opacity, color='b', label='Training MSE')\n",
    "\n",
    "rects2 = plt.bar(index + bar_width, mse_test, bar_width, alpha=opacity, color='g', label='Testing MSE')\n",
    "\n",
    "plt.xlabel('Model')\n",
    "plt.ylabel('Mean Standard Errors')\n",
    "plt.title('Mean Standard Error by Model, for Testing and Training Data')\n",
    "plt.xticks(index + bar_width, ('Model 1', 'Model 2', 'Model 3'))\n",
    "plt.legend()\n",
    "\n",
    "plt.show()"
   ]
  },
  {
   "cell_type": "markdown",
   "metadata": {},
   "source": [
    "### The plot shows that as each term is added to the model, the mean squared error decreases among the training data. This means that the increased terms are better fitting the true underlying distribution. However, the mean squared error increases among the testing data, which is an indication that we are overfitting. This suggests that the additional terms could just be capturing noise in the data."
   ]
  },
  {
   "cell_type": "code",
   "execution_count": null,
   "metadata": {
    "collapsed": true
   },
   "outputs": [],
   "source": []
  }
 ],
 "metadata": {
  "kernelspec": {
   "display_name": "Python [Root]",
   "language": "python",
   "name": "Python [Root]"
  },
  "language_info": {
   "codemirror_mode": {
    "name": "ipython",
    "version": 3
   },
   "file_extension": ".py",
   "mimetype": "text/x-python",
   "name": "python",
   "nbconvert_exporter": "python",
   "pygments_lexer": "ipython3",
   "version": "3.5.2"
  }
 },
 "nbformat": 4,
 "nbformat_minor": 0
}
